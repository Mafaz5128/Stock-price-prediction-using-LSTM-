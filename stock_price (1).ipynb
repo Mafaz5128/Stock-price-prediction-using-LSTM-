{
  "nbformat": 4,
  "nbformat_minor": 0,
  "metadata": {
    "colab": {
      "provenance": []
    },
    "kernelspec": {
      "name": "python3",
      "display_name": "Python 3"
    },
    "language_info": {
      "name": "python"
    }
  },
  "cells": [
    {
      "cell_type": "code",
      "source": [
        "import yfinance as yf\n",
        "import numpy as np\n",
        "import pandas as pd\n",
        "from sklearn.preprocessing import MinMaxScaler\n",
        "from tensorflow.keras.models import Sequential\n",
        "from tensorflow.keras.layers import Dense, LSTM, Dropout\n",
        "import matplotlib.pyplot as plt\n",
        "\n",
        "# Define functions for loading data, training model, and making predictions\n",
        "def load_data(ticker):\n",
        "    try:\n",
        "        data = yf.download(tickers=ticker, period='3mo', interval='1h')\n",
        "        data['Direction'] = np.where(data['Close'] > data['Open'], 1, 0)\n",
        "        return data\n",
        "    except Exception as e:\n",
        "        st.error(f\"Error loading data: {e}\")\n",
        "        return pd.DataFrame()\n",
        "\n",
        "def preprocess_data(data):\n",
        "    close_price = data['Close'].values\n",
        "    close_price = close_price.reshape(-1, 1)\n",
        "    scaler = MinMaxScaler(feature_range=(0, 1))\n",
        "    scaled_data = scaler.fit_transform(close_price)\n",
        "    return scaled_data, scaler\n",
        "\n",
        "def create_dataset(dataset, time_step=60):\n",
        "    X, y = [], []\n",
        "    for i in range(len(dataset) - time_step - 1):\n",
        "        X.append(dataset[i:(i + time_step), 0])\n",
        "        y.append(dataset[i + time_step, 0])\n",
        "    return np.array(X), np.array(y)\n",
        "\n",
        "def build_model(time_step):\n",
        "    model = Sequential()\n",
        "    model.add(LSTM(50, return_sequences=True, input_shape=(time_step, 1)))\n",
        "    model.add(Dropout(0.2))\n",
        "    model.add(LSTM(50, return_sequences=False))\n",
        "    model.add(Dropout(0.2))\n",
        "    model.add(Dense(25))\n",
        "    model.add(Dense(1))\n",
        "    model.compile(optimizer='adam', loss='mean_squared_error')\n",
        "    return model\n",
        "\n",
        "def predict_next_24_hours(model, last_data, scaler):\n",
        "    predictions = []\n",
        "    directions = []\n",
        "    input_data = last_data.copy()\n",
        "\n",
        "    for _ in range(24):  # Predict for the next 24 hours\n",
        "        pred = model.predict(input_data)\n",
        "        pred_unscaled = scaler.inverse_transform(pred)\n",
        "        predictions.append(pred_unscaled[0][0])\n",
        "\n",
        "        # Determine direction: up (1) if the price is predicted to rise, down (0) otherwise\n",
        "        last_price = scaler.inverse_transform(input_data[0])[-1][0]\n",
        "        direction = \"UP\" if pred_unscaled[0][0] > last_price else \"DOWN\"\n",
        "        directions.append(direction)\n",
        "\n",
        "        # Update input data by appending the predicted price\n",
        "        new_input = np.append(input_data[0][1:], pred, axis=0)\n",
        "        input_data = new_input.reshape(1, -1, 1)\n",
        "\n",
        "    return predictions, directions\n"
      ],
      "metadata": {
        "id": "03yUhkk45TSM"
      },
      "execution_count": 2,
      "outputs": []
    }
  ]
}